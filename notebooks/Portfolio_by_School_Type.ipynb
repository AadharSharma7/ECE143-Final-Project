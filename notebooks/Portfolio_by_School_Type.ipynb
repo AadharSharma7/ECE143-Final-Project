{
 "cells": [
  {
   "cell_type": "code",
   "execution_count": null,
   "metadata": {},
   "outputs": [],
   "source": [
    "import pandas as pd\n",
    "import matplotlib.pyplot as mp\n",
    "df = pd.read_excel('../data/Portfolio-by-School-Type.xls')"
   ]
  },
  {
   "cell_type": "code",
   "execution_count": null,
   "metadata": {},
   "outputs": [],
   "source": [
    "# Drop NA values, add a new row, and rename columns to make sense\n",
    "df = df.drop([0, 1, 2, 3, 32, 33, 34, 35])\n",
    "new_row = {\"Federal Student Loan Portfolio by School Type\": 0, \"Unnamed: 1\": '', \"Unnamed: 2\": 0, \"Unnamed: 3\" : 0, \"Unnamed: 4\": 0, \"Unnamed: 5\": 0, \"Unnamed: 6\" : 0, \"Unnamed: 7\": 0, \"Unnamed: 8\": 0, \"Unnamed: 9\" : 0, \"Unnamed: 10\": 0, \"Unnamed: 11\" : 0}\n",
    "df = pd.concat([df, pd.DataFrame([new_row])], ignore_index=True)\n",
    "df.rename(columns={\"Unnamed: 1\": \"Quarter\", \"Unnamed: 2\" : \"Public inst.\", \"Unnamed: 3\": \"Public insts.\", \"Unnamed: 4\" : \"Private inst.\", \"Unnamed: 5\" : \"Private insts.\", \"Unnamed: 6\" : \"Proprietary inst.\", \"Unnamed: 7\": \"Proprietary insts.\", \"Unnamed: 8\" : \"Foreign inst.\", \"Unnamed: 9\": \"Foreign insts.\", \"Unnamed: 10\" : \"Other inst.\", \"Unnamed: 11\": \"Other insts.\"}, inplace=True)\n",
    "df = df.drop(columns=['Foreign inst.', 'Foreign insts.'])"
   ]
  },
  {
   "cell_type": "code",
   "execution_count": null,
   "metadata": {},
   "outputs": [],
   "source": [
    "# Sum all the numbers for each quarter and into 1 year of data\n",
    "# ie, 4 quarters for 2018 will be summed and now appear as one row of data\n",
    "\n",
    "flag = 2017\n",
    "temp_master = df.iloc[28, :]\n",
    "count = 0\n",
    "\n",
    "temp = temp_master\n",
    "for i in range(1, len(df)):\n",
    "    if(flag == df.iloc[i, 0]):\n",
    "        temp = temp.add(df.iloc[i, :])\n",
    "        count = count + 1\n",
    "        if(flag == 2023 and count == 4):\n",
    "            temp = temp.add(df.iloc[i, :])\n",
    "    else:\n",
    "        df = pd.concat([df, pd.DataFrame([temp])], ignore_index=True)\n",
    "        temp = temp_master\n",
    "        temp = temp.add(df.iloc[i, :])\n",
    "        count = 0\n",
    "        flag = df.iloc[i, 0]\n"
   ]
  },
  {
   "cell_type": "code",
   "execution_count": null,
   "metadata": {},
   "outputs": [],
   "source": [
    "# Take only those rows that have summed years data\n",
    "df2 = df.iloc[29:36, :]\n",
    "school_type = pd.DataFrame(df2)\n",
    "\n",
    "# As the years also have been summed, divide by number of quarters to have the right year\n",
    "for i in range(0, len(school_type)):\n",
    "    if(i != 0):\n",
    "        school_type.iloc[i, 0] = int(school_type.iloc[i, 0]/4)\n",
    "    else:\n",
    "        school_type.iloc[i, 0] = int(school_type.iloc[i, 0]/3)\n",
    "\n",
    "# plot graphs\n",
    "amount_borrowed_df = school_type.loc[:, ['Federal Student Loan Portfolio by School Type', 'Public inst.', 'Private inst.', 'Proprietary inst.', 'Other inst.']]\n",
    "ax1 = amount_borrowed_df.plot.bar(x = 'Federal Student Loan Portfolio by School Type', y = ['Public inst.', 'Private inst.', 'Proprietary inst.', 'Other inst.'], figsize=(25, 10), xlabel=\"Years\", ylabel=\"Borrowed Amount (in Billions)\")\n",
    "ax1.legend(fontsize=16)\n",
    "ax1.set_xlabel('Years', fontdict={'fontsize': 18})\n",
    "ax1.set_ylabel('Total Loan Amount Oustanding (in Billions)', fontdict={'fontsize': 17})\n",
    "ax1.tick_params(axis = 'x', labelsize=18)\n",
    "ax1.tick_params(axis = 'y', labelsize=18)\n"
   ]
  }
 ],
 "metadata": {
  "kernelspec": {
   "display_name": "Python 3",
   "language": "python",
   "name": "python3"
  },
  "language_info": {
   "codemirror_mode": {
    "name": "ipython",
    "version": 3
   },
   "file_extension": ".py",
   "mimetype": "text/x-python",
   "name": "python",
   "nbconvert_exporter": "python",
   "pygments_lexer": "ipython3",
   "version": "3.9.0"
  }
 },
 "nbformat": 4,
 "nbformat_minor": 2
}
