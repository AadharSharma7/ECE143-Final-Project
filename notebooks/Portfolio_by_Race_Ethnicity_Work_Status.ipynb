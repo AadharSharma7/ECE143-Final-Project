{
 "cells": [
  {
   "cell_type": "code",
   "execution_count": null,
   "metadata": {},
   "outputs": [],
   "source": [
    "import pandas as pd\n",
    "import matplotlib.pyplot as mp\n",
    "df = pd.read_csv('Race-Ethnicity-Education-Loan.csv')"
   ]
  },
  {
   "cell_type": "code",
   "execution_count": null,
   "metadata": {},
   "outputs": [],
   "source": [
    "# Race-Ethnicity analysis\n",
    "new_df = df[['year', 'Category', 'Education_Installment_Loans']].copy()"
   ]
  },
  {
   "cell_type": "code",
   "execution_count": null,
   "metadata": {},
   "outputs": [],
   "source": [
    "# Separate the necessary columns from the existing df\n",
    "\n",
    "df_white = new_df[(new_df == 'White, non-Hispanic').any(axis=1)]\n",
    "df_black = new_df[(new_df == 'Black, non-Hispanic').any(axis=1)]\n",
    "df_hispanic = new_df[(new_df == 'Hispanic').any(axis=1)]\n",
    "df_other = new_df[(new_df == 'Other').any(axis=1)]"
   ]
  },
  {
   "cell_type": "code",
   "execution_count": null,
   "metadata": {},
   "outputs": [],
   "source": [
    "# Plot each ethnicity separately but all on the same graph \n",
    "\n",
    "ax = df_white.plot(style= '-o', x = 'year', y='Education_Installment_Loans', color=\"#9C33FF\")\n",
    "df_black.plot(ax = ax, style= '-^', x = 'year', y='Education_Installment_Loans', color=\"#F633FF\")\n",
    "df_hispanic.plot(ax = ax, style= '-s', x = 'year', y='Education_Installment_Loans', color=\"#FF336B\")\n",
    "df_other.plot(ax = ax, style= '-*', x = 'year', y='Education_Installment_Loans', color=\"#FF8633\")\n",
    "ax.legend([\"White, non Hispanic\", \"Black, non Hispanic\", \"Hispanic\", \"Other\"])\n",
    "ax.set_ylabel(\"Amount Borrowed (In thousands)\")"
   ]
  },
  {
   "cell_type": "code",
   "execution_count": null,
   "metadata": {},
   "outputs": [],
   "source": [
    "# Pie chart containing cumulative 30 year data\n",
    "\n",
    "total_white = df_white['Education_Installment_Loans'].sum()\n",
    "total_black = df_black['Education_Installment_Loans'].sum()\n",
    "total_hispanic = df_hispanic['Education_Installment_Loans'].sum()\n",
    "total_other = df_other['Education_Installment_Loans'].sum()\n",
    "\n",
    "totals_df = pd.DataFrame({'Category' : ['White, non Hispanic', 'Black, non Hispanic', 'Hispanic', 'Other'], 'Total amount borrowed (1989-2022)' : [total_white, total_black, total_hispanic, total_other]}, index=['White, NH*', 'Black, NH*', 'Hisp', 'Other'])\n",
    "\n",
    "plot = totals_df.plot.pie(x = '*NH = non hispanic', y='Total amount borrowed (1989-2022)', figsize=(25, 10), autopct='%1.1f%%', colors=[\"#9C33FF\", \"#F633FF\", \"#FF336B\", \"#FF8633\"], textprops={'fontsize': 12})\n",
    "plot.legend(loc=2, fontsize=13)\n",
    "plot.text(-1, -1.5, \"*NH = Non Hispanic\")"
   ]
  },
  {
   "cell_type": "code",
   "execution_count": null,
   "metadata": {},
   "outputs": [],
   "source": [
    "# Work status analysis\n",
    "df2 = pd.read_csv('Work-Status-Education_Loan.csv')"
   ]
  },
  {
   "cell_type": "code",
   "execution_count": null,
   "metadata": {},
   "outputs": [],
   "source": [
    "new_df2 = df2[['year', 'Category', 'Education_Installment_Loans']].copy()"
   ]
  },
  {
   "cell_type": "code",
   "execution_count": null,
   "metadata": {},
   "outputs": [],
   "source": [
    "df_employee = new_df2[(new_df2 == 'Employee').any(axis=1)]\n",
    "df_self = new_df2[(new_df2 == 'Self-employed').any(axis=1)]\n",
    "df_retired = new_df2[(new_df2 == 'Retired').any(axis=1)]\n",
    "df_unemp = new_df2[(new_df2 == 'Other not working').any(axis=1)]"
   ]
  },
  {
   "cell_type": "code",
   "execution_count": null,
   "metadata": {},
   "outputs": [],
   "source": [
    "# 30 year trend line\n",
    "ax = df_employee.plot(style= '-o', x = 'year', y='Education_Installment_Loans', color=\"#33FF80\")\n",
    "df_self.plot(ax = ax, style= '-^', x = 'year', y='Education_Installment_Loans', color=\"#339FFF\")\n",
    "df_retired.plot(ax = ax, style= '-s', x = 'year', y='Education_Installment_Loans', color=\"#33FFD7\")\n",
    "df_unemp.plot(ax = ax, style= '-*', x = 'year', y='Education_Installment_Loans', color=\"#3352FF\")\n",
    "ax.legend([\"Employee\", \"Self-employed\", \"Retired\", \"Unemployed\"])\n",
    "ax.set_ylabel(\"Amount Borrowed (In thousands)\")"
   ]
  },
  {
   "cell_type": "code",
   "execution_count": null,
   "metadata": {},
   "outputs": [],
   "source": [
    "# cumulative pie chart\n",
    "total_employee = df_employee['Education_Installment_Loans'].sum()\n",
    "total_self= df_self['Education_Installment_Loans'].sum()\n",
    "total_retired = df_retired['Education_Installment_Loans'].sum()\n",
    "total_unemp = df_unemp['Education_Installment_Loans'].sum()\n",
    "\n",
    "\n",
    "totals_df2 = pd.DataFrame({'Category' : ['Employee', 'Self-employed', 'Retired', 'Unemployed'], 'Total amount borrowed (1989-2022)' : [total_employee, total_self, total_retired, total_unemp]}, index=['Employee', 'Self-Employed', 'Retired', 'Unemployed'])\n",
    "\n",
    "plot = totals_df2.plot.pie(y='Total amount borrowed (1989-2022)', figsize=(30, 10), autopct='%1.1f%%', textprops={'fontsize': 12}, colors=[\"#33FF80\", \"#339FFF\", \"#33FFD7\", \"#3352FF\"])\n",
    "plot.legend(fontsize=13)\n",
    "\n"
   ]
  }
 ],
 "metadata": {
  "kernelspec": {
   "display_name": "Python 3",
   "language": "python",
   "name": "python3"
  },
  "language_info": {
   "codemirror_mode": {
    "name": "ipython",
    "version": 3
   },
   "file_extension": ".py",
   "mimetype": "text/x-python",
   "name": "python",
   "nbconvert_exporter": "python",
   "pygments_lexer": "ipython3",
   "version": "3.9.0"
  }
 },
 "nbformat": 4,
 "nbformat_minor": 2
}
